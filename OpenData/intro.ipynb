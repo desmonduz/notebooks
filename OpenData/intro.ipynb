{
 "cells": [
  {
   "cell_type": "markdown",
   "metadata": {},
   "source": [
    "# OpenData Hackathon: Data Analysis and Visualisation using Python\n",
    "\n",
    "## Short Bio:\n",
    "\n",
    "I am *Dr. Sarvar Abdullaev*. I hold PhD in Computer Science from King's College London. I am currently working as an Assistant Professor at Inha University in Tashkent. Throughout my career in both industry and academy, I had chance to work with multiple projects which involved intensive data analysis and visualisation. For example, most of my PhD research was about processing and testing open data about financial markets in a simulated environment of trading agents that I designed. Also I used to be an eager participant and a humble winner of many hackathons held in the UK. For example, our team has won TechCrunch Disrupt Hackathon in 2014 for implementing an interactive map which showed the epidemiologic spread of contigious diseases like Ebola through the network of airports.\n",
    "\n",
    "## What is this session about?\n",
    "\n",
    "In this session, we will be working with different data sets to learn the basic data analysis and visualization skills in Python. We will also cover some topics in making predictions about the data. We will use popular Python packages NumPy, Pandas, SciPy and MatPlotLib in this lesson.\n",
    "\n",
    "This notebook can be found from [this github repo](https://github.com/desmonduz/notebooks)."
   ]
  },
  {
   "cell_type": "markdown",
   "metadata": {},
   "source": [
    "Now let's load some libraries that we will need to visualize our data nicely inside Notebook"
   ]
  },
  {
   "cell_type": "code",
   "execution_count": 1,
   "metadata": {
    "collapsed": false
   },
   "outputs": [
    {
     "name": "stdout",
     "output_type": "stream",
     "text": [
      "Using matplotlib backend: Qt4Agg\n",
      "Populating the interactive namespace from numpy and matplotlib\n"
     ]
    }
   ],
   "source": [
    "%pylab\n",
    "%matplotlib inline"
   ]
  },
  {
   "cell_type": "markdown",
   "metadata": {},
   "source": [
    "First let's have basic knowledge about Pandas package in Python"
   ]
  },
  {
   "cell_type": "code",
   "execution_count": 2,
   "metadata": {
    "collapsed": true
   },
   "outputs": [],
   "source": [
    "import pandas as pd\n",
    "import requests\n",
    "from StringIO import StringIO #this library is needed to correctly read text files\n",
    "import numpy as np"
   ]
  },
  {
   "cell_type": "code",
   "execution_count": 39,
   "metadata": {
    "collapsed": false
   },
   "outputs": [
    {
     "data": {
      "text/html": [
       "<div>\n",
       "<table border=\"1\" class=\"dataframe\">\n",
       "  <thead>\n",
       "    <tr style=\"text-align: right;\">\n",
       "      <th></th>\n",
       "      <th>﻿Доимий а?оли сони (йил охирига), минг киши</th>\n",
       "      <th>Ту?илганлар сони, (йилда), киши</th>\n",
       "      <th>Ўлганлар сони, (йилда), киши</th>\n",
       "      <th>Кўчиб келганлар сони, (йилда), киши</th>\n",
       "      <th>Кўчиб кетганлар сони, (йилда), киши</th>\n",
       "      <th>Тузилган нико?лар сони, (йилда), мингта</th>\n",
       "      <th>Ажралишлар сони, (йилда), мингта</th>\n",
       "    </tr>\n",
       "  </thead>\n",
       "  <tbody>\n",
       "    <tr>\n",
       "      <th>1991</th>\n",
       "      <td>2256100</td>\n",
       "      <td>84143</td>\n",
       "      <td>13428</td>\n",
       "      <td>27863</td>\n",
       "      <td>36547</td>\n",
       "      <td>28800</td>\n",
       "      <td>2600</td>\n",
       "    </tr>\n",
       "    <tr>\n",
       "      <th>1992</th>\n",
       "      <td>2313600</td>\n",
       "      <td>84553</td>\n",
       "      <td>14974</td>\n",
       "      <td>20601</td>\n",
       "      <td>32772</td>\n",
       "      <td>22700</td>\n",
       "      <td>2500</td>\n",
       "    </tr>\n",
       "    <tr>\n",
       "      <th>1993</th>\n",
       "      <td>2368900</td>\n",
       "      <td>80111</td>\n",
       "      <td>15568</td>\n",
       "      <td>18883</td>\n",
       "      <td>27913</td>\n",
       "      <td>25400</td>\n",
       "      <td>2200</td>\n",
       "    </tr>\n",
       "    <tr>\n",
       "      <th>1994</th>\n",
       "      <td>2423000</td>\n",
       "      <td>79778</td>\n",
       "      <td>15955</td>\n",
       "      <td>12423</td>\n",
       "      <td>21724</td>\n",
       "      <td>19200</td>\n",
       "      <td>2000</td>\n",
       "    </tr>\n",
       "    <tr>\n",
       "      <th>1995</th>\n",
       "      <td>2479900</td>\n",
       "      <td>82287</td>\n",
       "      <td>15301</td>\n",
       "      <td>9805</td>\n",
       "      <td>19644</td>\n",
       "      <td>17000</td>\n",
       "      <td>1700</td>\n",
       "    </tr>\n",
       "    <tr>\n",
       "      <th>1996</th>\n",
       "      <td>2534900</td>\n",
       "      <td>76726</td>\n",
       "      <td>15576</td>\n",
       "      <td>7825</td>\n",
       "      <td>14353</td>\n",
       "      <td>17300</td>\n",
       "      <td>1500</td>\n",
       "    </tr>\n",
       "    <tr>\n",
       "      <th>1997</th>\n",
       "      <td>2586700</td>\n",
       "      <td>72526</td>\n",
       "      <td>15019</td>\n",
       "      <td>8232</td>\n",
       "      <td>15205</td>\n",
       "      <td>18900</td>\n",
       "      <td>1800</td>\n",
       "    </tr>\n",
       "    <tr>\n",
       "      <th>1998</th>\n",
       "      <td>2627300</td>\n",
       "      <td>62199</td>\n",
       "      <td>14972</td>\n",
       "      <td>7472</td>\n",
       "      <td>14170</td>\n",
       "      <td>18300</td>\n",
       "      <td>1800</td>\n",
       "    </tr>\n",
       "    <tr>\n",
       "      <th>1999</th>\n",
       "      <td>2670300</td>\n",
       "      <td>64840</td>\n",
       "      <td>13533</td>\n",
       "      <td>9946</td>\n",
       "      <td>18222</td>\n",
       "      <td>19900</td>\n",
       "      <td>2000</td>\n",
       "    </tr>\n",
       "    <tr>\n",
       "      <th>2000</th>\n",
       "      <td>2710000</td>\n",
       "      <td>61266</td>\n",
       "      <td>14223</td>\n",
       "      <td>9891</td>\n",
       "      <td>17219</td>\n",
       "      <td>19200</td>\n",
       "      <td>1800</td>\n",
       "    </tr>\n",
       "    <tr>\n",
       "      <th>2001</th>\n",
       "      <td>2749800</td>\n",
       "      <td>61717</td>\n",
       "      <td>13686</td>\n",
       "      <td>10773</td>\n",
       "      <td>19026</td>\n",
       "      <td>18300</td>\n",
       "      <td>800</td>\n",
       "    </tr>\n",
       "    <tr>\n",
       "      <th>2002</th>\n",
       "      <td>2789100</td>\n",
       "      <td>63592</td>\n",
       "      <td>14252</td>\n",
       "      <td>9594</td>\n",
       "      <td>19588</td>\n",
       "      <td>17900</td>\n",
       "      <td>1200</td>\n",
       "    </tr>\n",
       "    <tr>\n",
       "      <th>2003</th>\n",
       "      <td>2826100</td>\n",
       "      <td>60402</td>\n",
       "      <td>13798</td>\n",
       "      <td>8371</td>\n",
       "      <td>18033</td>\n",
       "      <td>17800</td>\n",
       "      <td>1200</td>\n",
       "    </tr>\n",
       "    <tr>\n",
       "      <th>2004</th>\n",
       "      <td>2867100</td>\n",
       "      <td>62695</td>\n",
       "      <td>13539</td>\n",
       "      <td>9679</td>\n",
       "      <td>17765</td>\n",
       "      <td>16400</td>\n",
       "      <td>1400</td>\n",
       "    </tr>\n",
       "    <tr>\n",
       "      <th>2005</th>\n",
       "      <td>2907500</td>\n",
       "      <td>63147</td>\n",
       "      <td>14469</td>\n",
       "      <td>10814</td>\n",
       "      <td>19090</td>\n",
       "      <td>20000</td>\n",
       "      <td>1600</td>\n",
       "    </tr>\n",
       "    <tr>\n",
       "      <th>2006</th>\n",
       "      <td>2955500</td>\n",
       "      <td>68755</td>\n",
       "      <td>14193</td>\n",
       "      <td>11328</td>\n",
       "      <td>17955</td>\n",
       "      <td>26000</td>\n",
       "      <td>1600</td>\n",
       "    </tr>\n",
       "    <tr>\n",
       "      <th>2007</th>\n",
       "      <td>3003400</td>\n",
       "      <td>68998</td>\n",
       "      <td>14486</td>\n",
       "      <td>12053</td>\n",
       "      <td>18661</td>\n",
       "      <td>29100</td>\n",
       "      <td>2000</td>\n",
       "    </tr>\n",
       "    <tr>\n",
       "      <th>2008</th>\n",
       "      <td>3061600</td>\n",
       "      <td>78002</td>\n",
       "      <td>14377</td>\n",
       "      <td>12259</td>\n",
       "      <td>17679</td>\n",
       "      <td>30500</td>\n",
       "      <td>1800</td>\n",
       "    </tr>\n",
       "    <tr>\n",
       "      <th>2009</th>\n",
       "      <td>3119000</td>\n",
       "      <td>75123</td>\n",
       "      <td>13771</td>\n",
       "      <td>11920</td>\n",
       "      <td>15812</td>\n",
       "      <td>33200</td>\n",
       "      <td>1400</td>\n",
       "    </tr>\n",
       "    <tr>\n",
       "      <th>2010</th>\n",
       "      <td>3270800</td>\n",
       "      <td>75213</td>\n",
       "      <td>14262</td>\n",
       "      <td>12332</td>\n",
       "      <td>15371</td>\n",
       "      <td>36300</td>\n",
       "      <td>1900</td>\n",
       "    </tr>\n",
       "    <tr>\n",
       "      <th>2011</th>\n",
       "      <td>3326200</td>\n",
       "      <td>73903</td>\n",
       "      <td>14605</td>\n",
       "      <td>12983</td>\n",
       "      <td>16900</td>\n",
       "      <td>34400</td>\n",
       "      <td>1800</td>\n",
       "    </tr>\n",
       "    <tr>\n",
       "      <th>2012</th>\n",
       "      <td>3380900</td>\n",
       "      <td>74137</td>\n",
       "      <td>15002</td>\n",
       "      <td>9326</td>\n",
       "      <td>13741</td>\n",
       "      <td>34800</td>\n",
       "      <td>1800</td>\n",
       "    </tr>\n",
       "    <tr>\n",
       "      <th>2013</th>\n",
       "      <td>3445600</td>\n",
       "      <td>82390</td>\n",
       "      <td>15227</td>\n",
       "      <td>12738</td>\n",
       "      <td>15191</td>\n",
       "      <td>36300</td>\n",
       "      <td>2400</td>\n",
       "    </tr>\n",
       "    <tr>\n",
       "      <th>2014</th>\n",
       "      <td>3514700</td>\n",
       "      <td>87833</td>\n",
       "      <td>15381</td>\n",
       "      <td>11291</td>\n",
       "      <td>14638</td>\n",
       "      <td>34200</td>\n",
       "      <td>2800</td>\n",
       "    </tr>\n",
       "  </tbody>\n",
       "</table>\n",
       "</div>"
      ],
      "text/plain": [
       "      ﻿Доимий а?оли сони (йил охирига), минг киши   \\\n",
       "1991                                       2256100   \n",
       "1992                                       2313600   \n",
       "1993                                       2368900   \n",
       "1994                                       2423000   \n",
       "1995                                       2479900   \n",
       "1996                                       2534900   \n",
       "1997                                       2586700   \n",
       "1998                                       2627300   \n",
       "1999                                       2670300   \n",
       "2000                                       2710000   \n",
       "2001                                       2749800   \n",
       "2002                                       2789100   \n",
       "2003                                       2826100   \n",
       "2004                                       2867100   \n",
       "2005                                       2907500   \n",
       "2006                                       2955500   \n",
       "2007                                       3003400   \n",
       "2008                                       3061600   \n",
       "2009                                       3119000   \n",
       "2010                                       3270800   \n",
       "2011                                       3326200   \n",
       "2012                                       3380900   \n",
       "2013                                       3445600   \n",
       "2014                                       3514700   \n",
       "\n",
       "      Ту?илганлар сони, (йилда), киши  Ўлганлар сони, (йилда), киши  \\\n",
       "1991                            84143                         13428   \n",
       "1992                            84553                         14974   \n",
       "1993                            80111                         15568   \n",
       "1994                            79778                         15955   \n",
       "1995                            82287                         15301   \n",
       "1996                            76726                         15576   \n",
       "1997                            72526                         15019   \n",
       "1998                            62199                         14972   \n",
       "1999                            64840                         13533   \n",
       "2000                            61266                         14223   \n",
       "2001                            61717                         13686   \n",
       "2002                            63592                         14252   \n",
       "2003                            60402                         13798   \n",
       "2004                            62695                         13539   \n",
       "2005                            63147                         14469   \n",
       "2006                            68755                         14193   \n",
       "2007                            68998                         14486   \n",
       "2008                            78002                         14377   \n",
       "2009                            75123                         13771   \n",
       "2010                            75213                         14262   \n",
       "2011                            73903                         14605   \n",
       "2012                            74137                         15002   \n",
       "2013                            82390                         15227   \n",
       "2014                            87833                         15381   \n",
       "\n",
       "      Кўчиб келганлар сони, (йилда), киши  \\\n",
       "1991                                27863   \n",
       "1992                                20601   \n",
       "1993                                18883   \n",
       "1994                                12423   \n",
       "1995                                 9805   \n",
       "1996                                 7825   \n",
       "1997                                 8232   \n",
       "1998                                 7472   \n",
       "1999                                 9946   \n",
       "2000                                 9891   \n",
       "2001                                10773   \n",
       "2002                                 9594   \n",
       "2003                                 8371   \n",
       "2004                                 9679   \n",
       "2005                                10814   \n",
       "2006                                11328   \n",
       "2007                                12053   \n",
       "2008                                12259   \n",
       "2009                                11920   \n",
       "2010                                12332   \n",
       "2011                                12983   \n",
       "2012                                 9326   \n",
       "2013                                12738   \n",
       "2014                                11291   \n",
       "\n",
       "      Кўчиб кетганлар сони, (йилда), киши  \\\n",
       "1991                                36547   \n",
       "1992                                32772   \n",
       "1993                                27913   \n",
       "1994                                21724   \n",
       "1995                                19644   \n",
       "1996                                14353   \n",
       "1997                                15205   \n",
       "1998                                14170   \n",
       "1999                                18222   \n",
       "2000                                17219   \n",
       "2001                                19026   \n",
       "2002                                19588   \n",
       "2003                                18033   \n",
       "2004                                17765   \n",
       "2005                                19090   \n",
       "2006                                17955   \n",
       "2007                                18661   \n",
       "2008                                17679   \n",
       "2009                                15812   \n",
       "2010                                15371   \n",
       "2011                                16900   \n",
       "2012                                13741   \n",
       "2013                                15191   \n",
       "2014                                14638   \n",
       "\n",
       "      Тузилган нико?лар сони, (йилда), мингта  \\\n",
       "1991                                    28800   \n",
       "1992                                    22700   \n",
       "1993                                    25400   \n",
       "1994                                    19200   \n",
       "1995                                    17000   \n",
       "1996                                    17300   \n",
       "1997                                    18900   \n",
       "1998                                    18300   \n",
       "1999                                    19900   \n",
       "2000                                    19200   \n",
       "2001                                    18300   \n",
       "2002                                    17900   \n",
       "2003                                    17800   \n",
       "2004                                    16400   \n",
       "2005                                    20000   \n",
       "2006                                    26000   \n",
       "2007                                    29100   \n",
       "2008                                    30500   \n",
       "2009                                    33200   \n",
       "2010                                    36300   \n",
       "2011                                    34400   \n",
       "2012                                    34800   \n",
       "2013                                    36300   \n",
       "2014                                    34200   \n",
       "\n",
       "      Ажралишлар сони, (йилда), мингта  \n",
       "1991                              2600  \n",
       "1992                              2500  \n",
       "1993                              2200  \n",
       "1994                              2000  \n",
       "1995                              1700  \n",
       "1996                              1500  \n",
       "1997                              1800  \n",
       "1998                              1800  \n",
       "1999                              2000  \n",
       "2000                              1800  \n",
       "2001                               800  \n",
       "2002                              1200  \n",
       "2003                              1200  \n",
       "2004                              1400  \n",
       "2005                              1600  \n",
       "2006                              1600  \n",
       "2007                              2000  \n",
       "2008                              1800  \n",
       "2009                              1400  \n",
       "2010                              1900  \n",
       "2011                              1800  \n",
       "2012                              1800  \n",
       "2013                              2400  \n",
       "2014                              2800  "
      ]
     },
     "execution_count": 39,
     "metadata": {},
     "output_type": "execute_result"
    }
   ],
   "source": [
    "# let's load some data from data.gov.uz\n",
    "\n",
    "# Samarkand region demographic details\n",
    "url='https://data.gov.uz/ru/datasets/download/543/csv'\n",
    "\n",
    "demog_str=requests.get(url).text\n",
    "\n",
    "demog_df=pd.read_csv(StringIO(demog_str), \n",
    "                     sep=\";\",\n",
    "                     header=None, \n",
    "                     usecols=range(0,25))\n",
    "\n",
    "demog_df=demog_df.transpose()\n",
    "demog_cols=demog_df.iloc[0]\n",
    "\n",
    "demog_df=demog_df[1:]\n",
    "demog_df.columns=pd.Index(demog_cols)\n",
    "demog_df.index=range(1991,2015)\n",
    "\n",
    "demog_df=demog_df.applymap(lambda x: float(x.replace(',', '.').replace('*','')))\n",
    "\n",
    "demog_df[demog_cols[0]]=demog_df[demog_cols[0]]*1000\n",
    "demog_df[demog_cols[5]]=demog_df[demog_cols[5]]*1000\n",
    "demog_df[demog_cols[6]]=demog_df[demog_cols[6]]*1000\n",
    "demog_df"
   ]
  },
  {
   "cell_type": "code",
   "execution_count": 5,
   "metadata": {
    "collapsed": false
   },
   "outputs": [
    {
     "name": "stdout",
     "output_type": "stream",
     "text": [
      "<class 'pandas.core.frame.DataFrame'>\n",
      "Int64Index: 24 entries, 1991 to 2014\n",
      "Data columns (total 7 columns):\n",
      "﻿Доимий а?оли сони (йил охирига), минг киши     24 non-null float64\n",
      "Ту?илганлар сони, (йилда), киши                 24 non-null float64\n",
      "Ўлганлар сони, (йилда), киши                    24 non-null float64\n",
      "Кўчиб келганлар сони, (йилда), киши             24 non-null float64\n",
      "Кўчиб кетганлар сони, (йилда), киши             24 non-null float64\n",
      "Тузилган нико?лар сони, (йилда), мингта         24 non-null float64\n",
      "Ажралишлар сони, (йилда), мингта                24 non-null float64\n",
      "dtypes: float64(7)\n",
      "memory usage: 1.5 KB\n"
     ]
    }
   ],
   "source": [
    "demog_df.info()"
   ]
  },
  {
   "cell_type": "code",
   "execution_count": 61,
   "metadata": {
    "collapsed": false
   },
   "outputs": [
    {
     "data": {
      "image/png": "[encoded data removed]",
      "text/plain": [
       "<matplotlib.figure.Figure at 0xb82bad0>"
      ]
     },
     "metadata": {},
     "output_type": "display_data"
    }
   ],
   "source": [
    "# p1=plt.plot(demog_df.iloc[:,0], label=\"Perm. Residents\")\n",
    "plt.figure(1, figsize=(8,8))\n",
    "\n",
    "p2=plt.plot(demog_df.iloc[:,1], label=\"Births\")\n",
    "p3=plt.plot(demog_df.iloc[:,2], label=\"Deaths\")\n",
    "\n",
    "plt.legend(loc='center right')\n",
    "plt.title('Samarkand region demographics')\n",
    "plt.xlabel('Years')\n",
    "plt.ylabel('People')\n",
    "plt.xlim(1991,2014)\n",
    "plt\n",
    "\n",
    "plt.show()"
   ]
  },
  {
   "cell_type": "code",
   "execution_count": 46,
   "metadata": {
    "collapsed": false
   },
   "outputs": [
    {
     "name": "stdout",
     "output_type": "stream",
     "text": [
      "349597.0\n",
      "2003\n"
     ]
    }
   ],
   "source": [
    "#let's see the sum of all deaths for the last year\n",
    "\n",
    "print demog_df.iloc[:,2].sum()\n",
    "\n",
    "#now let's find the year when minimum births happened\n",
    "\n",
    "print demog_df.iloc[:,1].idxmin()"
   ]
  },
  {
   "cell_type": "code",
   "execution_count": 48,
   "metadata": {
    "collapsed": false
   },
   "outputs": [
    {
     "data": {
      "text/html": [
       "<div>\n",
       "<table border=\"1\" class=\"dataframe\">\n",
       "  <thead>\n",
       "    <tr style=\"text-align: right;\">\n",
       "      <th></th>\n",
       "      <th>﻿Доимий а?оли сони (йил охирига), минг киши</th>\n",
       "      <th>Ту?илганлар сони, (йилда), киши</th>\n",
       "      <th>Ўлганлар сони, (йилда), киши</th>\n",
       "      <th>Кўчиб келганлар сони, (йилда), киши</th>\n",
       "      <th>Кўчиб кетганлар сони, (йилда), киши</th>\n",
       "      <th>Тузилган нико?лар сони, (йилда), мингта</th>\n",
       "      <th>Ажралишлар сони, (йилда), мингта</th>\n",
       "    </tr>\n",
       "  </thead>\n",
       "  <tbody>\n",
       "    <tr>\n",
       "      <th>count</th>\n",
       "      <td>24.000000</td>\n",
       "      <td>24.000000</td>\n",
       "      <td>24.000000</td>\n",
       "      <td>24.000000</td>\n",
       "      <td>24.000000</td>\n",
       "      <td>24.000000</td>\n",
       "      <td>24.000000</td>\n",
       "    </tr>\n",
       "    <tr>\n",
       "      <th>mean</th>\n",
       "      <td>2841166.666667</td>\n",
       "      <td>72680.666667</td>\n",
       "      <td>14566.541667</td>\n",
       "      <td>12016.750000</td>\n",
       "      <td>19050.791667</td>\n",
       "      <td>24662.500000</td>\n",
       "      <td>1816.666667</td>\n",
       "    </tr>\n",
       "    <tr>\n",
       "      <th>std</th>\n",
       "      <td>367802.370925</td>\n",
       "      <td>8671.663146</td>\n",
       "      <td>729.363807</td>\n",
       "      <td>4548.461472</td>\n",
       "      <td>5682.103675</td>\n",
       "      <td>7228.134193</td>\n",
       "      <td>465.941466</td>\n",
       "    </tr>\n",
       "    <tr>\n",
       "      <th>min</th>\n",
       "      <td>2256100.000000</td>\n",
       "      <td>60402.000000</td>\n",
       "      <td>13428.000000</td>\n",
       "      <td>7472.000000</td>\n",
       "      <td>13741.000000</td>\n",
       "      <td>16400.000000</td>\n",
       "      <td>800.000000</td>\n",
       "    </tr>\n",
       "    <tr>\n",
       "      <th>25%</th>\n",
       "      <td>2573750.000000</td>\n",
       "      <td>63480.750000</td>\n",
       "      <td>14094.250000</td>\n",
       "      <td>9657.750000</td>\n",
       "      <td>15329.500000</td>\n",
       "      <td>18300.000000</td>\n",
       "      <td>1575.000000</td>\n",
       "    </tr>\n",
       "    <tr>\n",
       "      <th>50%</th>\n",
       "      <td>2807600.000000</td>\n",
       "      <td>74020.000000</td>\n",
       "      <td>14477.500000</td>\n",
       "      <td>11052.500000</td>\n",
       "      <td>17860.000000</td>\n",
       "      <td>21350.000000</td>\n",
       "      <td>1800.000000</td>\n",
       "    </tr>\n",
       "    <tr>\n",
       "      <th>75%</th>\n",
       "      <td>3075950.000000</td>\n",
       "      <td>79861.250000</td>\n",
       "      <td>15071.000000</td>\n",
       "      <td>12354.750000</td>\n",
       "      <td>19214.500000</td>\n",
       "      <td>31175.000000</td>\n",
       "      <td>2000.000000</td>\n",
       "    </tr>\n",
       "    <tr>\n",
       "      <th>max</th>\n",
       "      <td>3514700.000000</td>\n",
       "      <td>87833.000000</td>\n",
       "      <td>15955.000000</td>\n",
       "      <td>27863.000000</td>\n",
       "      <td>36547.000000</td>\n",
       "      <td>36300.000000</td>\n",
       "      <td>2800.000000</td>\n",
       "    </tr>\n",
       "  </tbody>\n",
       "</table>\n",
       "</div>"
      ],
      "text/plain": [
       "       ﻿Доимий а?оли сони (йил охирига), минг киши   \\\n",
       "count                                     24.000000   \n",
       "mean                                 2841166.666667   \n",
       "std                                   367802.370925   \n",
       "min                                  2256100.000000   \n",
       "25%                                  2573750.000000   \n",
       "50%                                  2807600.000000   \n",
       "75%                                  3075950.000000   \n",
       "max                                  3514700.000000   \n",
       "\n",
       "       Ту?илганлар сони, (йилда), киши  Ўлганлар сони, (йилда), киши  \\\n",
       "count                        24.000000                     24.000000   \n",
       "mean                      72680.666667                  14566.541667   \n",
       "std                        8671.663146                    729.363807   \n",
       "min                       60402.000000                  13428.000000   \n",
       "25%                       63480.750000                  14094.250000   \n",
       "50%                       74020.000000                  14477.500000   \n",
       "75%                       79861.250000                  15071.000000   \n",
       "max                       87833.000000                  15955.000000   \n",
       "\n",
       "       Кўчиб келганлар сони, (йилда), киши  \\\n",
       "count                            24.000000   \n",
       "mean                          12016.750000   \n",
       "std                            4548.461472   \n",
       "min                            7472.000000   \n",
       "25%                            9657.750000   \n",
       "50%                           11052.500000   \n",
       "75%                           12354.750000   \n",
       "max                           27863.000000   \n",
       "\n",
       "       Кўчиб кетганлар сони, (йилда), киши  \\\n",
       "count                            24.000000   \n",
       "mean                          19050.791667   \n",
       "std                            5682.103675   \n",
       "min                           13741.000000   \n",
       "25%                           15329.500000   \n",
       "50%                           17860.000000   \n",
       "75%                           19214.500000   \n",
       "max                           36547.000000   \n",
       "\n",
       "       Тузилган нико?лар сони, (йилда), мингта  \\\n",
       "count                                24.000000   \n",
       "mean                              24662.500000   \n",
       "std                                7228.134193   \n",
       "min                               16400.000000   \n",
       "25%                               18300.000000   \n",
       "50%                               21350.000000   \n",
       "75%                               31175.000000   \n",
       "max                               36300.000000   \n",
       "\n",
       "       Ажралишлар сони, (йилда), мингта  \n",
       "count                         24.000000  \n",
       "mean                        1816.666667  \n",
       "std                          465.941466  \n",
       "min                          800.000000  \n",
       "25%                         1575.000000  \n",
       "50%                         1800.000000  \n",
       "75%                         2000.000000  \n",
       "max                         2800.000000  "
      ]
     },
     "execution_count": 48,
     "metadata": {},
     "output_type": "execute_result"
    }
   ],
   "source": [
    "#let's check the overall description\n",
    "demog_df.describe()"
   ]
  },
  {
   "cell_type": "code",
   "execution_count": 75,
   "metadata": {
    "collapsed": false
   },
   "outputs": [
    {
     "data": {
      "text/html": [
       "<div>\n",
       "<table border=\"1\" class=\"dataframe\">\n",
       "  <thead>\n",
       "    <tr style=\"text-align: right;\">\n",
       "      <th></th>\n",
       "      <th>﻿Доимий а?оли сони (йил охирига), минг киши</th>\n",
       "      <th>Ту?илганлар сони, (йилда), киши</th>\n",
       "      <th>Ўлганлар сони, (йилда), киши</th>\n",
       "      <th>Кўчиб келганлар сони, (йилда), киши</th>\n",
       "      <th>Кўчиб кетганлар сони, (йилда), киши</th>\n",
       "      <th>Тузилган нико?лар сони, (йилда), мингта</th>\n",
       "      <th>Ажралишлар сони, (йилда), мингта</th>\n",
       "    </tr>\n",
       "  </thead>\n",
       "  <tbody>\n",
       "    <tr>\n",
       "      <th>﻿Доимий а?оли сони (йил охирига), минг киши</th>\n",
       "      <td>1.000000</td>\n",
       "      <td>0.014680</td>\n",
       "      <td>-0.053447</td>\n",
       "      <td>-0.347086</td>\n",
       "      <td>-0.652764</td>\n",
       "      <td>0.713508</td>\n",
       "      <td>0.017646</td>\n",
       "    </tr>\n",
       "    <tr>\n",
       "      <th>Ту?илганлар сони, (йилда), киши</th>\n",
       "      <td>0.014680</td>\n",
       "      <td>1.000000</td>\n",
       "      <td>0.539917</td>\n",
       "      <td>0.552140</td>\n",
       "      <td>0.353827</td>\n",
       "      <td>0.514084</td>\n",
       "      <td>0.732990</td>\n",
       "    </tr>\n",
       "    <tr>\n",
       "      <th>Ўлганлар сони, (йилда), киши</th>\n",
       "      <td>-0.053447</td>\n",
       "      <td>0.539917</td>\n",
       "      <td>1.000000</td>\n",
       "      <td>-0.098626</td>\n",
       "      <td>-0.109841</td>\n",
       "      <td>0.050205</td>\n",
       "      <td>0.382236</td>\n",
       "    </tr>\n",
       "    <tr>\n",
       "      <th>Кўчиб келганлар сони, (йилда), киши</th>\n",
       "      <td>-0.347086</td>\n",
       "      <td>0.552140</td>\n",
       "      <td>-0.098626</td>\n",
       "      <td>1.000000</td>\n",
       "      <td>0.900503</td>\n",
       "      <td>0.308013</td>\n",
       "      <td>0.585935</td>\n",
       "    </tr>\n",
       "    <tr>\n",
       "      <th>Кўчиб кетганлар сони, (йилда), киши</th>\n",
       "      <td>-0.652764</td>\n",
       "      <td>0.353827</td>\n",
       "      <td>-0.109841</td>\n",
       "      <td>0.900503</td>\n",
       "      <td>1.000000</td>\n",
       "      <td>-0.100459</td>\n",
       "      <td>0.394548</td>\n",
       "    </tr>\n",
       "    <tr>\n",
       "      <th>Тузилган нико?лар сони, (йилда), мингта</th>\n",
       "      <td>0.713508</td>\n",
       "      <td>0.514084</td>\n",
       "      <td>0.050205</td>\n",
       "      <td>0.308013</td>\n",
       "      <td>-0.100459</td>\n",
       "      <td>1.000000</td>\n",
       "      <td>0.475398</td>\n",
       "    </tr>\n",
       "    <tr>\n",
       "      <th>Ажралишлар сони, (йилда), мингта</th>\n",
       "      <td>0.017646</td>\n",
       "      <td>0.732990</td>\n",
       "      <td>0.382236</td>\n",
       "      <td>0.585935</td>\n",
       "      <td>0.394548</td>\n",
       "      <td>0.475398</td>\n",
       "      <td>1.000000</td>\n",
       "    </tr>\n",
       "  </tbody>\n",
       "</table>\n",
       "</div>"
      ],
      "text/plain": [
       "                                              ﻿Доимий а?оли сони (йил охирига), минг киши   \\\n",
       "﻿Доимий а?оли сони (йил охирига), минг киши                                       1.000000   \n",
       "Ту?илганлар сони, (йилда), киши                                                   0.014680   \n",
       "Ўлганлар сони, (йилда), киши                                                     -0.053447   \n",
       "Кўчиб келганлар сони, (йилда), киши                                              -0.347086   \n",
       "Кўчиб кетганлар сони, (йилда), киши                                              -0.652764   \n",
       "Тузилган нико?лар сони, (йилда), мингта                                           0.713508   \n",
       "Ажралишлар сони, (йилда), мингта                                                  0.017646   \n",
       "\n",
       "                                              Ту?илганлар сони, (йилда), киши  \\\n",
       "﻿Доимий а?оли сони (йил охирига), минг киши                          0.014680   \n",
       "Ту?илганлар сони, (йилда), киши                                      1.000000   \n",
       "Ўлганлар сони, (йилда), киши                                         0.539917   \n",
       "Кўчиб келганлар сони, (йилда), киши                                  0.552140   \n",
       "Кўчиб кетганлар сони, (йилда), киши                                  0.353827   \n",
       "Тузилган нико?лар сони, (йилда), мингта                              0.514084   \n",
       "Ажралишлар сони, (йилда), мингта                                     0.732990   \n",
       "\n",
       "                                              Ўлганлар сони, (йилда), киши  \\\n",
       "﻿Доимий а?оли сони (йил охирига), минг киши                      -0.053447   \n",
       "Ту?илганлар сони, (йилда), киши                                   0.539917   \n",
       "Ўлганлар сони, (йилда), киши                                      1.000000   \n",
       "Кўчиб келганлар сони, (йилда), киши                              -0.098626   \n",
       "Кўчиб кетганлар сони, (йилда), киши                              -0.109841   \n",
       "Тузилган нико?лар сони, (йилда), мингта                           0.050205   \n",
       "Ажралишлар сони, (йилда), мингта                                  0.382236   \n",
       "\n",
       "                                              Кўчиб келганлар сони, (йилда), киши  \\\n",
       "﻿Доимий а?оли сони (йил охирига), минг киши                             -0.347086   \n",
       "Ту?илганлар сони, (йилда), киши                                          0.552140   \n",
       "Ўлганлар сони, (йилда), киши                                            -0.098626   \n",
       "Кўчиб келганлар сони, (йилда), киши                                      1.000000   \n",
       "Кўчиб кетганлар сони, (йилда), киши                                      0.900503   \n",
       "Тузилган нико?лар сони, (йилда), мингта                                  0.308013   \n",
       "Ажралишлар сони, (йилда), мингта                                         0.585935   \n",
       "\n",
       "                                              Кўчиб кетганлар сони, (йилда), киши  \\\n",
       "﻿Доимий а?оли сони (йил охирига), минг киши                             -0.652764   \n",
       "Ту?илганлар сони, (йилда), киши                                          0.353827   \n",
       "Ўлганлар сони, (йилда), киши                                            -0.109841   \n",
       "Кўчиб келганлар сони, (йилда), киши                                      0.900503   \n",
       "Кўчиб кетганлар сони, (йилда), киши                                      1.000000   \n",
       "Тузилган нико?лар сони, (йилда), мингта                                 -0.100459   \n",
       "Ажралишлар сони, (йилда), мингта                                         0.394548   \n",
       "\n",
       "                                              Тузилган нико?лар сони, (йилда), мингта  \\\n",
       "﻿Доимий а?оли сони (йил охирига), минг киши                                  0.713508   \n",
       "Ту?илганлар сони, (йилда), киши                                              0.514084   \n",
       "Ўлганлар сони, (йилда), киши                                                 0.050205   \n",
       "Кўчиб келганлар сони, (йилда), киши                                          0.308013   \n",
       "Кўчиб кетганлар сони, (йилда), киши                                         -0.100459   \n",
       "Тузилган нико?лар сони, (йилда), мингта                                      1.000000   \n",
       "Ажралишлар сони, (йилда), мингта                                             0.475398   \n",
       "\n",
       "                                              Ажралишлар сони, (йилда), мингта  \n",
       "﻿Доимий а?оли сони (йил охирига), минг киши                           0.017646  \n",
       "Ту?илганлар сони, (йилда), киши                                       0.732990  \n",
       "Ўлганлар сони, (йилда), киши                                          0.382236  \n",
       "Кўчиб келганлар сони, (йилда), киши                                   0.585935  \n",
       "Кўчиб кетганлар сони, (йилда), киши                                   0.394548  \n",
       "Тузилган нико?лар сони, (йилда), мингта                               0.475398  \n",
       "Ажралишлар сони, (йилда), мингта                                      1.000000  "
      ]
     },
     "execution_count": 75,
     "metadata": {},
     "output_type": "execute_result"
    }
   ],
   "source": [
    "\n",
    "demog_df.columns=[unicode(x) for x in demog_df.columns]\n",
    "#let's find correlation between marriages and births\n",
    "corr=demog_df.corr()\n",
    "corr"
   ]
  },
  {
   "cell_type": "code",
   "execution_count": 81,
   "metadata": {
    "collapsed": false
   },
   "outputs": [
    {
     "data": {
      "text/plain": [
       "<matplotlib.axes._subplots.AxesSubplot at 0xacb5fd0>"
      ]
     },
     "execution_count": 81,
     "metadata": {},
     "output_type": "execute_result"
    },
    {
     "data": {
      "image/png": "[encoded data removed]",
      "text/plain": [
       "<matplotlib.figure.Figure at 0xb277170>"
      ]
     },
     "metadata": {},
     "output_type": "display_data"
    }
   ],
   "source": [
    "import seaborn as sns\n",
    "sns.set_style(\"darkgrid\",{\"font.family\":['verdana']})\n",
    "\n",
    "sns.heatmap(corr)"
   ]
  },
  {
   "cell_type": "code",
   "execution_count": 96,
   "metadata": {
    "collapsed": false
   },
   "outputs": [
    {
     "data": {
      "text/plain": [
       "<seaborn.axisgrid.JointGrid at 0x11588c70>"
      ]
     },
     "execution_count": 96,
     "metadata": {},
     "output_type": "execute_result"
    },
    {
     "data": {
      "image/png": "[encoded data removed]",
      "text/plain": [
       "<matplotlib.figure.Figure at 0x11588f30>"
      ]
     },
     "metadata": {},
     "output_type": "display_data"
    }
   ],
   "source": [
    "#distribution of births-deaths throughout years\n",
    "\n",
    "sns.jointplot(demog_df.iloc[:,1],demog_df.iloc[:,2], kind='reg')"
   ]
  },
  {
   "cell_type": "code",
   "execution_count": 97,
   "metadata": {
    "collapsed": false
   },
   "outputs": [
    {
     "data": {
      "text/plain": [
       "<seaborn.axisgrid.JointGrid at 0x118b1970>"
      ]
     },
     "execution_count": 97,
     "metadata": {},
     "output_type": "execute_result"
    },
    {
     "data": {
      "image/png": "[encoded data removed]",
      "text/plain": [
       "<matplotlib.figure.Figure at 0x118aa8b0>"
      ]
     },
     "metadata": {},
     "output_type": "display_data"
    }
   ],
   "source": [
    "sns.jointplot(demog_df.iloc[:,5],demog_df.iloc[:,6], kind='reg')"
   ]
  },
  {
   "cell_type": "code",
   "execution_count": 94,
   "metadata": {
    "collapsed": false
   },
   "outputs": [
    {
     "data": {
      "text/plain": [
       "<matplotlib.axes._subplots.AxesSubplot at 0x113d3dd0>"
      ]
     },
     "execution_count": 94,
     "metadata": {},
     "output_type": "execute_result"
    },
    {
     "data": {
      "image/png": "[encoded data removed]",
      "text/plain": [
       "<matplotlib.figure.Figure at 0x112af4d0>"
      ]
     },
     "metadata": {},
     "output_type": "display_data"
    }
   ],
   "source": [
    "#moved in, moved out\n",
    "demog_df['Net Moved Out']=demog_df.iloc[:,4]-demog_df.iloc[:,3]\n",
    "plt.hist(demog_df['Net Moved Out'], alpha=0.3)\n",
    "sns.rugplot(demog_df['Net Moved Out'])"
   ]
  },
  {
   "cell_type": "code",
   "execution_count": 100,
   "metadata": {
    "collapsed": false
   },
   "outputs": [
    {
     "data": {
      "text/plain": [
       "<matplotlib.axes._subplots.AxesSubplot at 0x11cd1270>"
      ]
     },
     "execution_count": 100,
     "metadata": {},
     "output_type": "execute_result"
    },
    {
     "data": {
      "image/png": "[encoded data removed]",
      "text/plain": [
       "<matplotlib.figure.Figure at 0x11d81050>"
      ]
     },
     "metadata": {},
     "output_type": "display_data"
    }
   ],
   "source": [
    "#the estimated probability distribution of yearly move-out\n",
    "sns.distplot(demog_df['Net Moved Out'], bins=10)\n",
    "sns.rugplot(demog_df['Net Moved Out'])"
   ]
  },
  {
   "cell_type": "code",
   "execution_count": 106,
   "metadata": {
    "collapsed": false
   },
   "outputs": [
    {
     "data": {
      "text/plain": [
       "<seaborn.axisgrid.FacetGrid at 0x120cd350>"
      ]
     },
     "execution_count": 106,
     "metadata": {},
     "output_type": "execute_result"
    },
    {
     "data": {
      "text/plain": [
       "<matplotlib.figure.Figure at 0x11f5eed0>"
      ]
     },
     "metadata": {},
     "output_type": "display_data"
    },
    {
     "data": {
      "image/png": "[encoded data removed]",
      "text/plain": [
       "<matplotlib.figure.Figure at 0x120df590>"
      ]
     },
     "metadata": {},
     "output_type": "display_data"
    }
   ],
   "source": []
  },
  {
   "cell_type": "code",
   "execution_count": 116,
   "metadata": {
    "collapsed": false
   },
   "outputs": [
    {
     "data": {
      "text/html": [
       "<div>\n",
       "<table border=\"1\" class=\"dataframe\">\n",
       "  <thead>\n",
       "    <tr style=\"text-align: right;\">\n",
       "      <th></th>\n",
       "      <th>Net Newborn</th>\n",
       "      <th>Net Moved Out</th>\n",
       "    </tr>\n",
       "  </thead>\n",
       "  <tbody>\n",
       "    <tr>\n",
       "      <th>1991</th>\n",
       "      <td>70715</td>\n",
       "      <td>8684</td>\n",
       "    </tr>\n",
       "    <tr>\n",
       "      <th>1992</th>\n",
       "      <td>69579</td>\n",
       "      <td>12171</td>\n",
       "    </tr>\n",
       "    <tr>\n",
       "      <th>1993</th>\n",
       "      <td>64543</td>\n",
       "      <td>9030</td>\n",
       "    </tr>\n",
       "    <tr>\n",
       "      <th>1994</th>\n",
       "      <td>63823</td>\n",
       "      <td>9301</td>\n",
       "    </tr>\n",
       "    <tr>\n",
       "      <th>1995</th>\n",
       "      <td>66986</td>\n",
       "      <td>9839</td>\n",
       "    </tr>\n",
       "    <tr>\n",
       "      <th>1996</th>\n",
       "      <td>61150</td>\n",
       "      <td>6528</td>\n",
       "    </tr>\n",
       "    <tr>\n",
       "      <th>1997</th>\n",
       "      <td>57507</td>\n",
       "      <td>6973</td>\n",
       "    </tr>\n",
       "    <tr>\n",
       "      <th>1998</th>\n",
       "      <td>47227</td>\n",
       "      <td>6698</td>\n",
       "    </tr>\n",
       "    <tr>\n",
       "      <th>1999</th>\n",
       "      <td>51307</td>\n",
       "      <td>8276</td>\n",
       "    </tr>\n",
       "    <tr>\n",
       "      <th>2000</th>\n",
       "      <td>47043</td>\n",
       "      <td>7328</td>\n",
       "    </tr>\n",
       "    <tr>\n",
       "      <th>2001</th>\n",
       "      <td>48031</td>\n",
       "      <td>8253</td>\n",
       "    </tr>\n",
       "    <tr>\n",
       "      <th>2002</th>\n",
       "      <td>49340</td>\n",
       "      <td>9994</td>\n",
       "    </tr>\n",
       "    <tr>\n",
       "      <th>2003</th>\n",
       "      <td>46604</td>\n",
       "      <td>9662</td>\n",
       "    </tr>\n",
       "    <tr>\n",
       "      <th>2004</th>\n",
       "      <td>49156</td>\n",
       "      <td>8086</td>\n",
       "    </tr>\n",
       "    <tr>\n",
       "      <th>2005</th>\n",
       "      <td>48678</td>\n",
       "      <td>8276</td>\n",
       "    </tr>\n",
       "    <tr>\n",
       "      <th>2006</th>\n",
       "      <td>54562</td>\n",
       "      <td>6627</td>\n",
       "    </tr>\n",
       "    <tr>\n",
       "      <th>2007</th>\n",
       "      <td>54512</td>\n",
       "      <td>6608</td>\n",
       "    </tr>\n",
       "    <tr>\n",
       "      <th>2008</th>\n",
       "      <td>63625</td>\n",
       "      <td>5420</td>\n",
       "    </tr>\n",
       "    <tr>\n",
       "      <th>2009</th>\n",
       "      <td>61352</td>\n",
       "      <td>3892</td>\n",
       "    </tr>\n",
       "    <tr>\n",
       "      <th>2010</th>\n",
       "      <td>60951</td>\n",
       "      <td>3039</td>\n",
       "    </tr>\n",
       "    <tr>\n",
       "      <th>2011</th>\n",
       "      <td>59298</td>\n",
       "      <td>3917</td>\n",
       "    </tr>\n",
       "    <tr>\n",
       "      <th>2012</th>\n",
       "      <td>59135</td>\n",
       "      <td>4415</td>\n",
       "    </tr>\n",
       "    <tr>\n",
       "      <th>2013</th>\n",
       "      <td>67163</td>\n",
       "      <td>2453</td>\n",
       "    </tr>\n",
       "    <tr>\n",
       "      <th>2014</th>\n",
       "      <td>72452</td>\n",
       "      <td>3347</td>\n",
       "    </tr>\n",
       "  </tbody>\n",
       "</table>\n",
       "</div>"
      ],
      "text/plain": [
       "      Net Newborn  Net Moved Out\n",
       "1991        70715           8684\n",
       "1992        69579          12171\n",
       "1993        64543           9030\n",
       "1994        63823           9301\n",
       "1995        66986           9839\n",
       "1996        61150           6528\n",
       "1997        57507           6973\n",
       "1998        47227           6698\n",
       "1999        51307           8276\n",
       "2000        47043           7328\n",
       "2001        48031           8253\n",
       "2002        49340           9994\n",
       "2003        46604           9662\n",
       "2004        49156           8086\n",
       "2005        48678           8276\n",
       "2006        54562           6627\n",
       "2007        54512           6608\n",
       "2008        63625           5420\n",
       "2009        61352           3892\n",
       "2010        60951           3039\n",
       "2011        59298           3917\n",
       "2012        59135           4415\n",
       "2013        67163           2453\n",
       "2014        72452           3347"
      ]
     },
     "execution_count": 116,
     "metadata": {},
     "output_type": "execute_result"
    }
   ],
   "source": [
    "demog_df['Net Newborn']=demog_df.iloc[:,1]-demog_df.iloc[:,2]\n",
    "demog_df.ix[:,['Net Newborn','Net Moved Out']]"
   ]
  },
  {
   "cell_type": "code",
   "execution_count": 130,
   "metadata": {
    "collapsed": false
   },
   "outputs": [
    {
     "name": "stdout",
     "output_type": "stream",
     "text": [
      "      Net Newborn  Net Moved Out\n",
      "1991        70715           8684\n",
      "1992        69579          12171\n",
      "1993        64543           9030\n",
      "1994        63823           9301\n",
      "1995        66986           9839\n",
      "1996        61150           6528\n",
      "1997        57507           6973\n",
      "1998        47227           6698\n",
      "1999        51307           8276\n",
      "2000        47043           7328\n",
      "2001        48031           8253\n",
      "2002        49340           9994\n",
      "2003        46604           9662\n",
      "2004        49156           8086\n",
      "2005        48678           8276\n",
      "2006        54562           6627\n",
      "2007        54512           6608\n",
      "2008        63625           5420\n",
      "2009        61352           3892\n",
      "2010        60951           3039\n",
      "2011        59298           3917\n",
      "2012        59135           4415\n",
      "2013        67163           2453\n",
      "2014        72452           3347\n",
      " The estimated intercept coefficient is 4127962.80 \n",
      " The number of coefficients used was 2 \n"
     ]
    }
   ],
   "source": [
    "import sklearn\n",
    "from sklearn.linear_model import LinearRegression\n",
    "\n",
    "X=demog_df.ix[:,['Net Newborn','Net Moved Out']]\n",
    "Y=demog_df.ix[:,0]\n",
    "lreg=LinearRegression()\n",
    "lreg.fit(X, Y)\n",
    "\n",
    "print(' The estimated intercept coefficient is %.2f ' %lreg.intercept_)\n",
    "print(' The number of coefficients used was %d ' % len(lreg.coef_))"
   ]
  },
  {
   "cell_type": "code",
   "execution_count": 132,
   "metadata": {
    "collapsed": false
   },
   "outputs": [
    {
     "name": "stdout",
     "output_type": "stream",
     "text": [
      "((18, 2), (6, 2), (18,), (6,))\n"
     ]
    }
   ],
   "source": [
    "#cross validation\n",
    "# Grab the output and set as X and Y test and train data sets!\n",
    "X_train, X_test, Y_train, Y_test = sklearn.cross_validation.train_test_split(X,Y)\n",
    "print(X_train.shape, X_test.shape, Y_train.shape, Y_test.shape)"
   ]
  },
  {
   "cell_type": "code",
   "execution_count": 139,
   "metadata": {
    "collapsed": false
   },
   "outputs": [
    {
     "data": {
      "text/html": [
       "<div>\n",
       "<table border=\"1\" class=\"dataframe\">\n",
       "  <thead>\n",
       "    <tr style=\"text-align: right;\">\n",
       "      <th></th>\n",
       "      <th>Net Newborn</th>\n",
       "      <th>Net Moved Out</th>\n",
       "    </tr>\n",
       "  </thead>\n",
       "  <tbody>\n",
       "    <tr>\n",
       "      <th>1995</th>\n",
       "      <td>66986</td>\n",
       "      <td>9839</td>\n",
       "    </tr>\n",
       "    <tr>\n",
       "      <th>2007</th>\n",
       "      <td>54512</td>\n",
       "      <td>6608</td>\n",
       "    </tr>\n",
       "    <tr>\n",
       "      <th>1999</th>\n",
       "      <td>51307</td>\n",
       "      <td>8276</td>\n",
       "    </tr>\n",
       "    <tr>\n",
       "      <th>2013</th>\n",
       "      <td>67163</td>\n",
       "      <td>2453</td>\n",
       "    </tr>\n",
       "    <tr>\n",
       "      <th>2014</th>\n",
       "      <td>72452</td>\n",
       "      <td>3347</td>\n",
       "    </tr>\n",
       "    <tr>\n",
       "      <th>1993</th>\n",
       "      <td>64543</td>\n",
       "      <td>9030</td>\n",
       "    </tr>\n",
       "    <tr>\n",
       "      <th>2010</th>\n",
       "      <td>60951</td>\n",
       "      <td>3039</td>\n",
       "    </tr>\n",
       "    <tr>\n",
       "      <th>2011</th>\n",
       "      <td>59298</td>\n",
       "      <td>3917</td>\n",
       "    </tr>\n",
       "    <tr>\n",
       "      <th>2003</th>\n",
       "      <td>46604</td>\n",
       "      <td>9662</td>\n",
       "    </tr>\n",
       "    <tr>\n",
       "      <th>1994</th>\n",
       "      <td>63823</td>\n",
       "      <td>9301</td>\n",
       "    </tr>\n",
       "    <tr>\n",
       "      <th>1997</th>\n",
       "      <td>57507</td>\n",
       "      <td>6973</td>\n",
       "    </tr>\n",
       "    <tr>\n",
       "      <th>2002</th>\n",
       "      <td>49340</td>\n",
       "      <td>9994</td>\n",
       "    </tr>\n",
       "    <tr>\n",
       "      <th>2001</th>\n",
       "      <td>48031</td>\n",
       "      <td>8253</td>\n",
       "    </tr>\n",
       "    <tr>\n",
       "      <th>2009</th>\n",
       "      <td>61352</td>\n",
       "      <td>3892</td>\n",
       "    </tr>\n",
       "    <tr>\n",
       "      <th>2006</th>\n",
       "      <td>54562</td>\n",
       "      <td>6627</td>\n",
       "    </tr>\n",
       "    <tr>\n",
       "      <th>1998</th>\n",
       "      <td>47227</td>\n",
       "      <td>6698</td>\n",
       "    </tr>\n",
       "    <tr>\n",
       "      <th>2000</th>\n",
       "      <td>47043</td>\n",
       "      <td>7328</td>\n",
       "    </tr>\n",
       "    <tr>\n",
       "      <th>1992</th>\n",
       "      <td>69579</td>\n",
       "      <td>12171</td>\n",
       "    </tr>\n",
       "  </tbody>\n",
       "</table>\n",
       "</div>"
      ],
      "text/plain": [
       "      Net Newborn  Net Moved Out\n",
       "1995        66986           9839\n",
       "2007        54512           6608\n",
       "1999        51307           8276\n",
       "2013        67163           2453\n",
       "2014        72452           3347\n",
       "1993        64543           9030\n",
       "2010        60951           3039\n",
       "2011        59298           3917\n",
       "2003        46604           9662\n",
       "1994        63823           9301\n",
       "1997        57507           6973\n",
       "2002        49340           9994\n",
       "2001        48031           8253\n",
       "2009        61352           3892\n",
       "2006        54562           6627\n",
       "1998        47227           6698\n",
       "2000        47043           7328\n",
       "1992        69579          12171"
      ]
     },
     "execution_count": 139,
     "metadata": {},
     "output_type": "execute_result"
    }
   ],
   "source": [
    "X_train"
   ]
  },
  {
   "cell_type": "code",
   "execution_count": 140,
   "metadata": {
    "collapsed": false
   },
   "outputs": [
    {
     "data": {
      "text/plain": [
       "1995    2479900\n",
       "2007    3003400\n",
       "1999    2670300\n",
       "2013    3445600\n",
       "2014    3514700\n",
       "1993    2368900\n",
       "2010    3270800\n",
       "2011    3326200\n",
       "2003    2826100\n",
       "1994    2423000\n",
       "1997    2586700\n",
       "2002    2789100\n",
       "2001    2749800\n",
       "2009    3119000\n",
       "2006    2955500\n",
       "1998    2627300\n",
       "2000    2710000\n",
       "1992    2313600\n",
       "Name: ﻿Доимий а?оли сони (йил охирига), минг киши , dtype: float64"
      ]
     },
     "execution_count": 140,
     "metadata": {},
     "output_type": "execute_result"
    }
   ],
   "source": [
    "Y_train"
   ]
  },
  {
   "cell_type": "code",
   "execution_count": 142,
   "metadata": {
    "collapsed": false
   },
   "outputs": [
    {
     "data": {
      "text/html": [
       "<div>\n",
       "<table border=\"1\" class=\"dataframe\">\n",
       "  <thead>\n",
       "    <tr style=\"text-align: right;\">\n",
       "      <th></th>\n",
       "      <th>Net Newborn</th>\n",
       "      <th>Net Moved Out</th>\n",
       "    </tr>\n",
       "  </thead>\n",
       "  <tbody>\n",
       "    <tr>\n",
       "      <th>2004</th>\n",
       "      <td>49156</td>\n",
       "      <td>8086</td>\n",
       "    </tr>\n",
       "    <tr>\n",
       "      <th>2012</th>\n",
       "      <td>59135</td>\n",
       "      <td>4415</td>\n",
       "    </tr>\n",
       "    <tr>\n",
       "      <th>2005</th>\n",
       "      <td>48678</td>\n",
       "      <td>8276</td>\n",
       "    </tr>\n",
       "    <tr>\n",
       "      <th>1996</th>\n",
       "      <td>61150</td>\n",
       "      <td>6528</td>\n",
       "    </tr>\n",
       "    <tr>\n",
       "      <th>1991</th>\n",
       "      <td>70715</td>\n",
       "      <td>8684</td>\n",
       "    </tr>\n",
       "    <tr>\n",
       "      <th>2008</th>\n",
       "      <td>63625</td>\n",
       "      <td>5420</td>\n",
       "    </tr>\n",
       "  </tbody>\n",
       "</table>\n",
       "</div>"
      ],
      "text/plain": [
       "      Net Newborn  Net Moved Out\n",
       "2004        49156           8086\n",
       "2012        59135           4415\n",
       "2005        48678           8276\n",
       "1996        61150           6528\n",
       "1991        70715           8684\n",
       "2008        63625           5420"
      ]
     },
     "execution_count": 142,
     "metadata": {},
     "output_type": "execute_result"
    }
   ],
   "source": [
    "X_test"
   ]
  },
  {
   "cell_type": "code",
   "execution_count": 144,
   "metadata": {
    "collapsed": false
   },
   "outputs": [
    {
     "data": {
      "text/plain": [
       "2004    2867100\n",
       "2012    3380900\n",
       "2005    2907500\n",
       "1996    2534900\n",
       "1991    2256100\n",
       "2008    3061600\n",
       "Name: ﻿Доимий а?оли сони (йил охирига), минг киши , dtype: float64"
      ]
     },
     "execution_count": 144,
     "metadata": {},
     "output_type": "execute_result"
    }
   ],
   "source": [
    "Y_test"
   ]
  },
  {
   "cell_type": "code",
   "execution_count": 145,
   "metadata": {
    "collapsed": false
   },
   "outputs": [
    {
     "name": "stdout",
     "output_type": "stream",
     "text": [
      "Fit a model X_train, and calculate MSE with Y_train: 28153247659.81\n",
      "Fit a model X_train, and calculate MSE with X_test and Y_test: 66055762716.08\n"
     ]
    }
   ],
   "source": [
    "#train the model\n",
    "lreg.fit(X_train,Y_train)\n",
    "\n",
    "# #prediction test\n",
    "pred_train = lreg.predict(X_train)\n",
    "pred_test = lreg.predict(X_test)\n",
    "\n",
    "print(\"Fit a model X_train, and calculate MSE with Y_train: %.2f\"  % np.mean((Y_train - pred_train) ** 2))\n",
    "print(\"Fit a model X_train, and calculate MSE with X_test and Y_test: %.2f\"  % np.mean((Y_test - pred_test) ** 2))"
   ]
  },
  {
   "cell_type": "code",
   "execution_count": 152,
   "metadata": {
    "collapsed": false
   },
   "outputs": [
    {
     "data": {
      "text/plain": [
       "(array([ 1.,  1.,  1.,  1.,  0.,  0.,  0.,  0.,  0.,  2.]),\n",
       " array([  7.72580728e+08,   1.57245605e+10,   3.06765404e+10,\n",
       "          4.56285202e+10,   6.05805000e+10,   7.55324798e+10,\n",
       "          9.04844596e+10,   1.05436439e+11,   1.20388419e+11,\n",
       "          1.35340399e+11,   1.50292379e+11]),\n",
       " <a list of 10 Patch objects>)"
      ]
     },
     "execution_count": 152,
     "metadata": {},
     "output_type": "execute_result"
    },
    {
     "data": {
      "image/png": "[encoded data removed]",
      "text/plain": [
       "<matplotlib.figure.Figure at 0x12535e10>"
      ]
     },
     "metadata": {},
     "output_type": "display_data"
    }
   ],
   "source": [
    "#errors distribution\n",
    "plt.hist((Y_test - pred_test) ** 2)"
   ]
  },
  {
   "cell_type": "markdown",
   "metadata": {},
   "source": [
    "## Tonnes of Data Science resources online:\n",
    "\n",
    "### Start\n",
    "* [Data Science Pipeline](http://machinelearningmastery.com/wp-content/uploads/2014/05/Overview-of-the-Applied-Machine-Learning-Process.png) - Detailed overview of data pipeline from MachineLearningMastery.com\n",
    "* [Intro to ipython](https://github.com/ipython/ipython/wiki/A-gallery-of-interesting-IPython-Notebooks/_edit#entire-books-or-other-large-collections-of-notebooks-on-a-topic) - A curation of Ipython Notebooks great for introductory level to python, programming, comp sci, data science and other topics.\n",
    "* [How do I Become a Data Scientist?](http://www.quora.com/How-do-I-become-a-data-scientist) - Some more great starting points from William Chen.\n",
    "\n",
    "### Data Science Courses:\n",
    "* [Coursera](https://www.coursera.org/specialization/jhudatascience/1) - Data Science Specialization at Coursera - many other courses available as well.\n",
    "* [Udacity](https://www.udacity.com/courses#!/data-science) - Online MOOCs that are the Data Science related courses. by I\n",
    "* [Data Science Bootcamps](http://yet-another-data-blog.blogspot.com/2014/04/data-science-bootcamp-landscape-full.html) - A collection of all bootcamps currently on the market as of April 5, 2014 by Ikechukwu Okonkwo.\n",
    "* [Coursera Machine Learning Course](https://www.coursera.org/course/ml) - Andrew Ng's pinnacle Machine Learning course.\n",
    "* [Edx](https://www.edx.org/course/mitx/mitx-6-00-2x-introduction-computational-2836#.VEANx9TF-tw) - EDX courses related to data science.\n",
    "\n",
    "###  Data Structures & CS Topics\n",
    "* [Algorithms & Data Structures](http://www.bogotobogo.com/Algorithms/algorithms.php) - Binary trees, hash tables, linked lists, big(O) notation and more.\n",
    "* [Algorithm & Data Structures](http://interactivepython.org/courselib/static/pythonds/index.html) - Well organized detailed and digestible site full of content covering data structures, algorithms, recursion and assignments!\n",
    "* [Big O Notation](http://interactivepython.org/courselib/static/pythonds/AlgorithmAnalysis/BigONotation.html) - Great details and visual of big-O notation.\n",
    "* [Visualizations of Data Structures](http://www.cs.usfca.edu/~galles/visualization/Algorithms.html) - Collection of different algorithms (graph problems) and data structures (queues, heaps, hashes) that walks through the visualization to get a better intuitive understanding. \n",
    "* [Data Structures CheatSheet & Big Oh Notation](http://bigocheatsheet.com/)\n",
    "* [Data Structures CheatSheet -smaller more readable](https://www.clear.rice.edu/comp160/data_cheat.html)\n",
    "* [Coursera: Stanford Algorithms Design & Analysis ](https://class.coursera.org/algo-006) - Course on algorithm design & analysis\n",
    "\n",
    "### Statistics\n",
    "Some primers on understanding statistics and other resources to get a deeper understanding.\n",
    "* [Statistics Without the Agonizing Pain](https://www.youtube.com/watch?v=5Dnw46eC-0o) - John Rauser's really great video on statistics - funny and engaging with a good message.\n",
    "* [Probability Programming and Bayesian Methods for Hackers](http://nbviewer.ipython.org/github/CamDavidsonPilon/Probabilistic-Programming-and-Bayesian-Methods-for-Hackers/blob/master/Prologue/Prologue.ipynb) - full book all online through ipython notebooks.\n",
    "* [Probabilistic Programming and Bayesian Methods for Hackers](https://github.com/CamDavidsonPilon/Probabilistic-Programming-and-Bayesian-Methods-for-Hackers) - Github Repo for the book above.\n",
    "* [Statistics Cheat Sheet in Ipython Notebook](http://nbviewer.ipython.org/url/trust.sce.ntu.edu.sg/~gguo1/blogs/Statistics/Statistics.ipynb)\n",
    "* [The only probability Cheatsheet you'll ever need](https://bayesrule.files.wordpress.com/2014/07/probability_cheatsheet_140718.pdf) - Self explanatory - (thanks William Chen @ http://datastories.quora.com/) for pointing me this great cheat sheet out - wish I had that back at college.\n",
    "* [Khan Academy: Statistics](https://www.khanacademy.org/#statistics) - Tons of videos to help learn statistics concepts.\n",
    "* [Statistical Distributions in iPython Notebook](http://nbviewer.ipython.org/urls/gist.github.com/mattions/6113437/raw/c5468ea930d6960225d83e112d7f3d00d9c13398/Exploring+different+distribution.ipynb) - Discrete, Bernoulli, Poisson, Binomial, Alpha, Beta etc.  The descriptions are mathematical - will find another resource to explain.\n",
    "\n",
    "### Stats/Engineering Libraries\n",
    "A collection of workhorse libraries that are elemental for any python data scientist.\n",
    "* [Pandas](http://pandas.pydata.org/) Wes McKinney's pandas library for EDA on small to medium sized data sets when you don't want to put the infrastructure for SQL or when it isn't necessary.  It has many other great applications other than just better than SQL on small to medium data sets.\n",
    "  * [Numpy/Pandas/Scipy Cheatsheet](https://s3.amazonaws.com/quandl-static-content/Documents/Quandl+-+Pandas,+SciPy,+NumPy+Cheat+Sheet.pdf) - self explanatory\n",
    "* [SciPy](http://www.scipy.org/) - Open-source software for mathematics, science and engineering.\n",
    "* [NumPy](http://www.numpy.org/) - Fundamental package for scientific computing with Python.\n",
    "* [StatsModels](http://statsmodels.sourceforge.net/) - Module that allows users to explore data, estimate statistical models and perform statistical tests.\n",
    "* [PyMC](https://pypi.python.org/pypi/pymc) - Bayesian estimation useful for Markov chain Monte Carlo analysis (among other things).\n",
    "\n",
    "\n",
    "### Data Acquisition\n",
    "Libraries that are very helpful for abstracting away some of the complications of scraping or working with HTTP.\n",
    "* [BeautifulSoup](http://www.crummy.com/software/BeautifulSoup/) - A python library to make web-scraping HTML easier.\n",
    "  * [Beautiful Soup Cheat Sheet](http://youkilljohnny.blogspot.com/2014/03/beautifulsoup-cheat-sheet-parse-html-by.html)\n",
    "* [Requests](http://docs.python-requests.org/en/latest/) - HTTP for Humans - python library that makes working with http and api's more effortless\n",
    "\n",
    "### Processing & Exploratory Data Analysis\n",
    "A collection of documents explaining some of the ways to do processing & EDA.\n",
    "* [Unix for Processing](http://www.theunixschool.com/p/awk-sed.html) - sed & awk for data processing.\n",
    "* [Pandas](http://pandas.pydata.org/) - Already mentioned is great for data processing - cleaning, filtering and getting rid of nan's, normalizing, scaling, replacing values, etc.\n",
    "* [SciKit Learn for Preprocessing](http://scikit-learn.org/stable/modules/preprocessing.html#preprocessing) - Doc on sklearn's preprocessing methods.\n",
    "* [Regular Expressions](http://www.zytrax.com/tech/web/regex.htm) - Regex explained.\n",
    "\n",
    "### Data Visualization\n",
    "Collection of the best libraries that I know for easy and powerful data visualizations.\n",
    "* [ggplot](http://ggplot.yhathq.com/) - ggplot for python ported by the team at yhat.\n",
    "* [matplotlib](http://matplotlib.org/) - Awesome plotting library for python.\n",
    "* [d3](http://d3js.org/) - Mike Bostock's viz library - the de facto gold standard for polished visualization - in js, steep learning curve but beautiful outcomes.\n",
    "* [bokeh](http://bokeh.pydata.org/) - Interactive visualization library.\n",
    "* [d3py](https://github.com/mikedewar/d3py) - Another library for data viz.\n",
    "* [vincent](http://vincent.readthedocs.org/en/latest/)  - Help with python for d3.\n",
    "* [seaborn](http://web.stanford.edu/~mwaskom/software/seaborn/) - Clean statistical data visualization library.\n",
    "\n",
    "\n",
    "### Machine Learning\n",
    "There is a lot of information available online about the theory, mathematical intuition, tuning for this discipline.  Here are some tools that are currently available.\n",
    "* [A visual introduction to Machine Learning](http://www.r2d3.us/visual-intro-to-machine-learning-part-1/) - Awesome d3 visualization to help understand machine learning.\n",
    "* [SciKit-Learn](http://scikit-learn.org/stable/) - Simple and efficient machine learning tools for data mining and data analysis\n",
    "* [NLTK](http://www.nltk.org/) - Natural Language Toolkit to work with human languages data.\n",
    "* [Tour of Machine Learning Algorithms](http://machinelearningmastery.com/a-tour-of-machine-learning-algorithms/) - Blog post about some of the high level ML methods\n",
    "* [VIDEO - How to get started w/mL](https://www.youtube.com/watch?v=uBorfxosVYs) - Melanie Warrick @ PyCon 2014.\n",
    "* [Some ML methods classified](http://nyghtowlblog.files.wordpress.com/2014/04/ml_algorithms.png?w=535&h=311) - Classification for some sample ML algorithms by Melanie Warrick.\n",
    "* [SciKit-image](http://scikit-image.org/) - Algorithms for image processing.\n",
    "* [Machine Learning CheatSheet](https://github.com/soulmachine/machine-learning-cheat-sheet) - I would actually say this is more than just a cheat sheet given that there are > 100 pages of notes.\n",
    "* [Awesome Machine Learning](https://github.com/josephmisiti/awesome-machine-learning) - List of machine learning libraries in all languages and also Kaggle competition source code by Joseph Misiti.\n"
   ]
  },
  {
   "cell_type": "code",
   "execution_count": null,
   "metadata": {
    "collapsed": true
   },
   "outputs": [],
   "source": []
  }
 ],
 "metadata": {
  "kernelspec": {
   "display_name": "Python 2",
   "language": "python",
   "name": "python2"
  },
  "language_info": {
   "codemirror_mode": {
    "name": "ipython",
    "version": 2
   },
   "file_extension": ".py",
   "mimetype": "text/x-python",
   "name": "python",
   "nbconvert_exporter": "python",
   "pygments_lexer": "ipython2",
   "version": "2.7.11"
  }
 },
 "nbformat": 4,
 "nbformat_minor": 0
}
