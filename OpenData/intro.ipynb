{
 "cells": [
  {
   "cell_type": "markdown",
   "metadata": {},
   "source": [
    "#OpenData Hackathon: Data Analysis and Visualisation using Python\n",
    "\n",
    "##Short Bio:\n",
    "\n",
    "I am *Dr. Sarvar Abdullaev*. I hold PhD in Computer Science from King's College London. I am currently working as an Assistant Professor at Inha University in Tashkent. Throughout my career in both industry and academy, I had chance to work with multiple projects which involved intensive data analysis and visualisation. For example, most of my PhD research was about processing and testing open data about financial markets in a simulated environment of trading agents that I designed. Also I used to be an eager participant and a humble winner of many hackathons held in the UK. For example, our team has won TechCrunch Disrupt Hackathon in 2014 for implementing an interactive map which showed the epidemiologic spread of contigious diseases like Ebola through the network of airports.\n",
    "\n",
    "##What is this session about?\n",
    "\n",
    "In this session, we will be working with an open data from _[data.gov.uz](http://data.gov.uz)_ to learn the basic data analysis and visualization skills in Python."
   ]
  },
  {
   "cell_type": "code",
   "execution_count": null,
   "metadata": {
    "collapsed": true
   },
   "outputs": [],
   "source": []
  }
 ],
 "metadata": {
  "kernelspec": {
   "display_name": "Python 2",
   "language": "python",
   "name": "python2"
  },
  "language_info": {
   "codemirror_mode": {
    "name": "ipython",
    "version": 2
   },
   "file_extension": ".py",
   "mimetype": "text/x-python",
   "name": "python",
   "nbconvert_exporter": "python",
   "pygments_lexer": "ipython2",
   "version": "2.7.12"
  }
 },
 "nbformat": 4,
 "nbformat_minor": 0
}
